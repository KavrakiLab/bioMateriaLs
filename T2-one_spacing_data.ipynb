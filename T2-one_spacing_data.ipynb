{
 "cells": [
  {
   "cell_type": "markdown",
   "metadata": {},
   "source": [
    "# Random forest regressor - one spacing data"
   ]
  },
  {
   "cell_type": "code",
   "execution_count": 1,
   "metadata": {},
   "outputs": [],
   "source": [
    "from load_data import load\n",
    "from sklearn.ensemble import RandomForestClassifier\n",
    "from matplotlib import pyplot as plt\n",
    "import numpy as np\n",
    "import pandas as pd"
   ]
  },
  {
   "cell_type": "markdown",
   "metadata": {},
   "source": [
    "## Load data"
   ]
  },
  {
   "cell_type": "code",
   "execution_count": 2,
   "metadata": {},
   "outputs": [
    {
     "name": "stdout",
     "output_type": "stream",
     "text": [
      "0        True\n",
      "1        True\n",
      "2        True\n",
      "3        True\n",
      "4        True\n",
      "        ...  \n",
      "2208    False\n",
      "2209    False\n",
      "2210    False\n",
      "2211    False\n",
      "2212    False\n",
      "Name: Pressure (bar), Length: 2213, dtype: bool\n",
      "2213\n"
     ]
    }
   ],
   "source": [
    "(df, diff, dataX, dataY) = load()"
   ]
  },
  {
   "cell_type": "markdown",
   "metadata": {},
   "source": [
    "## Split data - one spacing"
   ]
  },
  {
   "cell_type": "code",
   "execution_count": 4,
   "metadata": {},
   "outputs": [],
   "source": [
    "#SETUP 1 -> leave one configuration out; configuration = ppf-speed-pressure\n",
    "def split_data_one_spacing(ppf, speed, pressure, dataX, dataY):\n",
    "    cond1 = df[\"wt% PPF\"]==ppf\n",
    "    cond2 = df[\"Pressure (bar)\"]==pressure\n",
    "    cond3 = df[\"Speed (mm/s)\"]==speed\n",
    "    cond4 = df[\"Spacing (mm)\"]==1.2\n",
    "\n",
    "    cond1=cond1.to_numpy()\n",
    "    cond2=cond2.to_numpy()\n",
    "    cond3=cond3.to_numpy()\n",
    "    cond4=cond4.to_numpy()\n",
    "    \n",
    "    c = [c1 and cond2[i] and cond3[i] and cond4[i] for i, c1 in enumerate(cond1)]\n",
    "    nc = [not (c1 and cond2[i] and cond3[i] and cond4[i]) for i, c1 in enumerate(cond1)]\n",
    "    X_test = dataX[c]\n",
    "    X_train = dataX[nc]\n",
    "\n",
    "    y_test = dataY[c]\n",
    "    y_train = dataY[nc]\n",
    "    return (X_test, X_train, y_test, y_train)"
   ]
  },
  {
   "cell_type": "code",
   "execution_count": 10,
   "metadata": {},
   "outputs": [
    {
     "name": "stderr",
     "output_type": "stream",
     "text": [
      "/home/anja/anaconda3/lib/python3.7/site-packages/ipykernel_launcher.py:1: SettingWithCopyWarning: \n",
      "A value is trying to be set on a copy of a slice from a DataFrame.\n",
      "Try using .loc[row_indexer,col_indexer] = value instead\n",
      "\n",
      "See the caveats in the documentation: http://pandas.pydata.org/pandas-docs/stable/user_guide/indexing.html#returning-a-view-versus-a-copy\n",
      "  \"\"\"Entry point for launching an IPython kernel.\n"
     ]
    }
   ],
   "source": [
    "dataY[\"labels\"] = (dataY[\"material accuracy(%)\"]>=50)"
   ]
  },
  {
   "cell_type": "markdown",
   "metadata": {},
   "source": [
    "## Train and evaluate the model"
   ]
  },
  {
   "cell_type": "code",
   "execution_count": 7,
   "metadata": {},
   "outputs": [],
   "source": [
    "def calc_accuracy(pred_val, real_val, thr):\n",
    "    N = len(pred_val)\n",
    "    return (N + np.sum(np.sign((pred_val-thr)*(real_val-thr))))/(2*N)"
   ]
  },
  {
   "cell_type": "code",
   "execution_count": 8,
   "metadata": {},
   "outputs": [],
   "source": [
    "def value_to_prob(val, thr):\n",
    "    #sigmoid\n",
    "    return 1/(1+np.power(np.e,(thr-val)))"
   ]
  },
  {
   "cell_type": "code",
   "execution_count": 12,
   "metadata": {},
   "outputs": [
    {
     "name": "stdout",
     "output_type": "stream",
     "text": [
      "0.678883965243376\n"
     ]
    }
   ],
   "source": [
    "from sklearn.ensemble import RandomForestRegressor\n",
    "from sklearn.metrics import roc_auc_score\n",
    "from sklearn.metrics import accuracy_score\n",
    "\n",
    "combos_l = df[[\"wt% PPF\", \"Speed (mm/s)\", \"Pressure (bar)\"]].groupby([\"wt% PPF\", \"Speed (mm/s)\", \"Pressure (bar)\"]).size().reset_index()\n",
    "combos = combos_l[[\"wt% PPF\", \"Speed (mm/s)\", \"Pressure (bar)\"]].values\n",
    "\n",
    "\n",
    "accus = []\n",
    "aurocs = []\n",
    "combos_labels = []\n",
    "\n",
    "for combo in combos:\n",
    "    (X_test, X_train, y_test, y_train) = split_data_one_spacing(combo[0],combo[1],combo[2],dataX, dataY)\n",
    "    if len(X_test)==0 or len(X_train)==0:\n",
    "        print(\"no_data\")\n",
    "        continue\n",
    "    regr = RandomForestRegressor(max_depth=6, random_state=0,n_estimators=100)\n",
    "    regr.fit(X_train.values, y_train.values[:,1])\n",
    "    y_pred_material =  regr.predict(X_test.values)\n",
    "    acc = calc_accuracy(y_pred_material, y_test.values[:, 1], 50)\n",
    "    y_pred_prob = value_to_prob(y_pred_material, 50)\n",
    "    y_test = y_test[\"labels\"].astype(int).to_numpy()\n",
    "    if not 1 in y_test:\n",
    "        y_test[0]=1\n",
    "    if not 0 in y_test:\n",
    "        y_test[0]=0\n",
    "    aur = roc_auc_score(y_test, y_pred_prob)\n",
    "    accus.append(acc)\n",
    "    aurocs.append(aur)\n",
    "    combos_labels.append(str(int(combo[0]))+\";\"+str(combo[2])+\";\"+str(combo[1]))\n",
    "print(np.average(np.array(aurocs), axis = 0))"
   ]
  },
  {
   "cell_type": "code",
   "execution_count": 13,
   "metadata": {},
   "outputs": [
    {
     "data": {
      "text/html": [
       "<div>\n",
       "<style scoped>\n",
       "    .dataframe tbody tr th:only-of-type {\n",
       "        vertical-align: middle;\n",
       "    }\n",
       "\n",
       "    .dataframe tbody tr th {\n",
       "        vertical-align: top;\n",
       "    }\n",
       "\n",
       "    .dataframe thead th {\n",
       "        text-align: right;\n",
       "    }\n",
       "</style>\n",
       "<table border=\"1\" class=\"dataframe\">\n",
       "  <thead>\n",
       "    <tr style=\"text-align: right;\">\n",
       "      <th></th>\n",
       "      <th>configuration</th>\n",
       "      <th>accuracy</th>\n",
       "      <th>AUROC</th>\n",
       "    </tr>\n",
       "  </thead>\n",
       "  <tbody>\n",
       "    <tr>\n",
       "      <td>0</td>\n",
       "      <td>85;2.0;5.0</td>\n",
       "      <td>0.975000</td>\n",
       "      <td>0.961538</td>\n",
       "    </tr>\n",
       "    <tr>\n",
       "      <td>1</td>\n",
       "      <td>85;2.5;5.0</td>\n",
       "      <td>1.000000</td>\n",
       "      <td>0.858974</td>\n",
       "    </tr>\n",
       "    <tr>\n",
       "      <td>2</td>\n",
       "      <td>85;3.0;5.0</td>\n",
       "      <td>1.000000</td>\n",
       "      <td>0.858974</td>\n",
       "    </tr>\n",
       "    <tr>\n",
       "      <td>3</td>\n",
       "      <td>85;2.0;7.5</td>\n",
       "      <td>1.000000</td>\n",
       "      <td>0.961538</td>\n",
       "    </tr>\n",
       "    <tr>\n",
       "      <td>4</td>\n",
       "      <td>85;2.5;7.5</td>\n",
       "      <td>1.000000</td>\n",
       "      <td>0.552632</td>\n",
       "    </tr>\n",
       "    <tr>\n",
       "      <td>5</td>\n",
       "      <td>85;3.0;7.5</td>\n",
       "      <td>0.975000</td>\n",
       "      <td>0.551282</td>\n",
       "    </tr>\n",
       "    <tr>\n",
       "      <td>6</td>\n",
       "      <td>85;2.0;10.0</td>\n",
       "      <td>0.851852</td>\n",
       "      <td>0.826087</td>\n",
       "    </tr>\n",
       "    <tr>\n",
       "      <td>7</td>\n",
       "      <td>85;2.5;10.0</td>\n",
       "      <td>1.000000</td>\n",
       "      <td>0.858974</td>\n",
       "    </tr>\n",
       "    <tr>\n",
       "      <td>8</td>\n",
       "      <td>85;3.0;10.0</td>\n",
       "      <td>1.000000</td>\n",
       "      <td>0.957143</td>\n",
       "    </tr>\n",
       "    <tr>\n",
       "      <td>9</td>\n",
       "      <td>85;2.0;15.0</td>\n",
       "      <td>0.882353</td>\n",
       "      <td>0.738095</td>\n",
       "    </tr>\n",
       "    <tr>\n",
       "      <td>10</td>\n",
       "      <td>85;2.5;15.0</td>\n",
       "      <td>0.550000</td>\n",
       "      <td>0.598901</td>\n",
       "    </tr>\n",
       "    <tr>\n",
       "      <td>11</td>\n",
       "      <td>85;2.5;20.0</td>\n",
       "      <td>0.533333</td>\n",
       "      <td>0.660714</td>\n",
       "    </tr>\n",
       "    <tr>\n",
       "      <td>12</td>\n",
       "      <td>90;2.5;5.0</td>\n",
       "      <td>0.608696</td>\n",
       "      <td>0.428571</td>\n",
       "    </tr>\n",
       "    <tr>\n",
       "      <td>13</td>\n",
       "      <td>90;3.0;5.0</td>\n",
       "      <td>1.000000</td>\n",
       "      <td>0.100000</td>\n",
       "    </tr>\n",
       "    <tr>\n",
       "      <td>14</td>\n",
       "      <td>90;4.0;5.0</td>\n",
       "      <td>1.000000</td>\n",
       "      <td>0.448718</td>\n",
       "    </tr>\n",
       "    <tr>\n",
       "      <td>15</td>\n",
       "      <td>90;3.0;7.5</td>\n",
       "      <td>1.000000</td>\n",
       "      <td>0.500000</td>\n",
       "    </tr>\n",
       "  </tbody>\n",
       "</table>\n",
       "</div>"
      ],
      "text/plain": [
       "   configuration  accuracy     AUROC\n",
       "0     85;2.0;5.0  0.975000  0.961538\n",
       "1     85;2.5;5.0  1.000000  0.858974\n",
       "2     85;3.0;5.0  1.000000  0.858974\n",
       "3     85;2.0;7.5  1.000000  0.961538\n",
       "4     85;2.5;7.5  1.000000  0.552632\n",
       "5     85;3.0;7.5  0.975000  0.551282\n",
       "6    85;2.0;10.0  0.851852  0.826087\n",
       "7    85;2.5;10.0  1.000000  0.858974\n",
       "8    85;3.0;10.0  1.000000  0.957143\n",
       "9    85;2.0;15.0  0.882353  0.738095\n",
       "10   85;2.5;15.0  0.550000  0.598901\n",
       "11   85;2.5;20.0  0.533333  0.660714\n",
       "12    90;2.5;5.0  0.608696  0.428571\n",
       "13    90;3.0;5.0  1.000000  0.100000\n",
       "14    90;4.0;5.0  1.000000  0.448718\n",
       "15    90;3.0;7.5  1.000000  0.500000"
      ]
     },
     "execution_count": 13,
     "metadata": {},
     "output_type": "execute_result"
    }
   ],
   "source": [
    "pd.DataFrame({\"configuration\": combos_labels, \"accuracy\": accus, \"AUROC\": aurocs})"
   ]
  }
 ],
 "metadata": {
  "kernelspec": {
   "display_name": "Python 3",
   "language": "python",
   "name": "python3"
  },
  "language_info": {
   "codemirror_mode": {
    "name": "ipython",
    "version": 3
   },
   "file_extension": ".py",
   "mimetype": "text/x-python",
   "name": "python",
   "nbconvert_exporter": "python",
   "pygments_lexer": "ipython3",
   "version": "3.7.4"
  }
 },
 "nbformat": 4,
 "nbformat_minor": 2
}
