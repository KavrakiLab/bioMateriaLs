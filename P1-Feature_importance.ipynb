{
 "cells": [
  {
   "cell_type": "markdown",
   "metadata": {},
   "source": [
    "# Feature importance - Figure1"
   ]
  },
  {
   "cell_type": "code",
   "execution_count": 1,
   "metadata": {},
   "outputs": [],
   "source": [
    "from load_data import load\n",
    "from sklearn.ensemble import RandomForestRegressor\n",
    "from matplotlib import pyplot as plt\n",
    "import numpy as np"
   ]
  },
  {
   "cell_type": "markdown",
   "metadata": {},
   "source": [
    "### 1 - Load data"
   ]
  },
  {
   "cell_type": "code",
   "execution_count": 2,
   "metadata": {},
   "outputs": [
    {
     "name": "stdout",
     "output_type": "stream",
     "text": [
      "0        True\n",
      "1        True\n",
      "2        True\n",
      "3        True\n",
      "4        True\n",
      "        ...  \n",
      "2208    False\n",
      "2209    False\n",
      "2210    False\n",
      "2211    False\n",
      "2212    False\n",
      "Name: Pressure (bar), Length: 2213, dtype: bool\n",
      "2213\n"
     ]
    }
   ],
   "source": [
    "(df, diff, dataX, dataY) = load()"
   ]
  },
  {
   "cell_type": "markdown",
   "metadata": {},
   "source": [
    "### 2 - Prepare data for training"
   ]
  },
  {
   "cell_type": "code",
   "execution_count": 3,
   "metadata": {},
   "outputs": [],
   "source": [
    "#generate all configurations\n",
    "conf_spp = df[[\"Speed (mm/s)\", \"Pressure (bar)\", \"wt% PPF\"]].groupby([\"Speed (mm/s)\", \"Pressure (bar)\", \"wt% PPF\"]).size().reset_index()\n",
    "combos = conf_spp[[\"Speed (mm/s)\", \"Pressure (bar)\", \"wt% PPF\"]].values"
   ]
  },
  {
   "cell_type": "code",
   "execution_count": 4,
   "metadata": {},
   "outputs": [],
   "source": [
    "#extract data in the form for training\n",
    "X_train = dataX[[ \"viscosity\", \"Spacing (mm)\", \"Speed (mm/s)\", \"Pressure (bar)\", \"Layer #\"]].to_numpy()\n",
    "Y_train = dataY[\"material accuracy(%)\"].to_numpy()"
   ]
  },
  {
   "cell_type": "markdown",
   "metadata": {},
   "source": [
    "### 3 - Train"
   ]
  },
  {
   "cell_type": "code",
   "execution_count": 5,
   "metadata": {},
   "outputs": [
    {
     "data": {
      "text/plain": [
       "RandomForestRegressor(bootstrap=True, criterion='mse', max_depth=6,\n",
       "                      max_features='auto', max_leaf_nodes=None,\n",
       "                      min_impurity_decrease=0.0, min_impurity_split=None,\n",
       "                      min_samples_leaf=1, min_samples_split=2,\n",
       "                      min_weight_fraction_leaf=0.0, n_estimators=100,\n",
       "                      n_jobs=None, oob_score=False, random_state=0, verbose=0,\n",
       "                      warm_start=False)"
      ]
     },
     "execution_count": 5,
     "metadata": {},
     "output_type": "execute_result"
    }
   ],
   "source": [
    "regr = RandomForestRegressor(max_depth=6, random_state=0,n_estimators=100)\n",
    "regr.fit(X_train, Y_train)"
   ]
  },
  {
   "cell_type": "markdown",
   "metadata": {},
   "source": [
    "### 4 - Extract features and plot them"
   ]
  },
  {
   "cell_type": "code",
   "execution_count": 23,
   "metadata": {},
   "outputs": [
    {
     "name": "stdout",
     "output_type": "stream",
     "text": [
      "Feature ranking:\n",
      "1. feature 2 (0.510071)\n",
      "2. feature 0 (0.241523)\n",
      "3. feature 3 (0.145407)\n",
      "4. feature 4 (0.068581)\n",
      "5. feature 1 (0.034418)\n"
     ]
    },
    {
     "data": {
      "text/plain": [
       "<Figure size 432x288 with 0 Axes>"
      ]
     },
     "metadata": {},
     "output_type": "display_data"
    },
    {
     "data": {
      "image/png": "[encoded data removed]",
      "text/plain": [
       "<Figure size 432x288 with 1 Axes>"
      ]
     },
     "metadata": {
      "needs_background": "light"
     },
     "output_type": "display_data"
    }
   ],
   "source": [
    "import matplotlib\n",
    "#------------------------------CODE TO EXTRACT AND PLOT THE FEATURES------------------------------------#\n",
    "X = X_train\n",
    "importances = regr.feature_importances_\n",
    "std = np.std([tree.feature_importances_ for tree in regr.estimators_],\n",
    "             axis=0)\n",
    "indices = np.argsort(importances)[::-1]\n",
    "\n",
    "feature_labs = [\"wt% \\nPPF\", \"Spacing\", \"Speed\", \"Pressure\", \"Layer\"]\n",
    "feature_lab_ord = []\n",
    "\n",
    "for i in indices:\n",
    "    feature_lab_ord.append(feature_labs[i])\n",
    "\n",
    "# Print the feature ranking\n",
    "print(\"Feature ranking:\")\n",
    "\n",
    "for f in range(X.shape[1]):\n",
    "    print(\"%d. feature %d (%f)\" % (f + 1, indices[f], importances[indices[f]]))\n",
    "\n",
    "# Plot the impurity-based feature importances of the forest\n",
    "font = {'family' : 'serif',\n",
    "        'weight' : 'normal',\n",
    "        'size'   : 14}\n",
    "\n",
    "matplotlib.rc('font', **font)\n",
    "plt.figure()\n",
    "fig, ax = plt.subplots()\n",
    "ax.set_axisbelow(True)\n",
    "plt.grid(False)\n",
    "#plt.title(\"Feature importances\")\n",
    "x_spacing = np.array(range(X.shape[1]))*1.7\n",
    "plotline1, caplines1, barlinecols1 = ax.errorbar(\n",
    "        x_spacing, importances[indices], yerr=std[indices], lolims=True,\n",
    "        capsize = 0, ls='None', color='k')\n",
    "caplines1[0].set_marker('_')\n",
    "caplines1[0].set_markersize(20)\n",
    "plt.bar(x_spacing, importances[indices],\n",
    "        color='purple',align=\"center\")\n",
    "plt.xticks(x_spacing, feature_lab_ord)\n",
    "plt.xlim([-1, X.shape[1]*1.5])\n",
    "plt.ylabel(\"Feature Ranking\")\n",
    "\n",
    "plt.savefig(\"feature_importance.eps\")\n",
    "plt.show()"
   ]
  },
  {
   "cell_type": "code",
   "execution_count": 13,
   "metadata": {},
   "outputs": [
    {
     "data": {
      "text/plain": [
       "array([0. , 1.2, 2.4, 3.6, 4.8])"
      ]
     },
     "execution_count": 13,
     "metadata": {},
     "output_type": "execute_result"
    }
   ],
   "source": [
    "np.array(range(X.shape[1]))*1.2"
   ]
  }
 ],
 "metadata": {
  "kernelspec": {
   "display_name": "Python 3",
   "language": "python",
   "name": "python3"
  },
  "language_info": {
   "codemirror_mode": {
    "name": "ipython",
    "version": 3
   },
   "file_extension": ".py",
   "mimetype": "text/x-python",
   "name": "python",
   "nbconvert_exporter": "python",
   "pygments_lexer": "ipython3",
   "version": "3.7.4"
  }
 },
 "nbformat": 4,
 "nbformat_minor": 2
}
